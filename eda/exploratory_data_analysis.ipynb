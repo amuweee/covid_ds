{
 "cells": [
  {
   "cell_type": "markdown",
   "metadata": {},
   "source": [
    "# Exploratory Data Analysis\n",
    "\n",
    "### COVID-19 Daily Infections and Deaths Data\n",
    "#### Importing dataset"
   ]
  },
  {
   "cell_type": "code",
   "execution_count": 43,
   "metadata": {},
   "outputs": [],
   "source": [
    "root_path = '/home/mbai/python/covid_ds/'\n",
    "import sys\n",
    "sys.path.append(root_path)\n",
    "\n",
    "import pandas as pd\n",
    "import numpy as np\n",
    "import sqlite3\n",
    "import seaborn as sns\n",
    "\n",
    "from etl.constants import ETLConfigs\n",
    "pd.options.mode.chained_assignment = None\n",
    "\n",
    "conn = sqlite3.connect(\"{}{}.db\".format(root_path, ETLConfigs.DB_NAME))\n",
    "query = \"SELECT * FROM {}\".format(ETLConfigs.TABLE_NAME)\n",
    "\n",
    "df = pd.read_sql_query(query, conn)"
   ]
  },
  {
   "cell_type": "markdown",
   "metadata": {},
   "source": [
    "### Initial view of the dataset\n",
    "Let's get a quick view of the scope and type of dataset we're dealing with:  \n",
    "Looking at the top/bottom/random 20 rows, data shape, and datatypes"
   ]
  },
  {
   "cell_type": "code",
   "execution_count": 44,
   "metadata": {},
   "outputs": [
    {
     "output_type": "execute_result",
     "data": {
      "text/plain": "       country state  latitude  longitude                 date  confirmed  \\\n0  Afghanistan  None   33.0000    65.0000  2020-01-22 00:00:00          0   \n1      Albania  None   41.1533    20.1683  2020-01-22 00:00:00          0   \n2      Algeria  None   28.0339     1.6596  2020-01-22 00:00:00          0   \n3      Andorra  None   42.5063     1.5218  2020-01-22 00:00:00          0   \n4       Angola  None  -11.2027    17.8739  2020-01-22 00:00:00          0   \n\n   death               etl_load_time  \n0      0  2020-04-28 19:58:39.555707  \n1      0  2020-04-28 19:58:39.555707  \n2      0  2020-04-28 19:58:39.555707  \n3      0  2020-04-28 19:58:39.555707  \n4      0  2020-04-28 19:58:39.555707  ",
      "text/html": "<div>\n<style scoped>\n    .dataframe tbody tr th:only-of-type {\n        vertical-align: middle;\n    }\n\n    .dataframe tbody tr th {\n        vertical-align: top;\n    }\n\n    .dataframe thead th {\n        text-align: right;\n    }\n</style>\n<table border=\"1\" class=\"dataframe\">\n  <thead>\n    <tr style=\"text-align: right;\">\n      <th></th>\n      <th>country</th>\n      <th>state</th>\n      <th>latitude</th>\n      <th>longitude</th>\n      <th>date</th>\n      <th>confirmed</th>\n      <th>death</th>\n      <th>etl_load_time</th>\n    </tr>\n  </thead>\n  <tbody>\n    <tr>\n      <th>0</th>\n      <td>Afghanistan</td>\n      <td>None</td>\n      <td>33.0000</td>\n      <td>65.0000</td>\n      <td>2020-01-22 00:00:00</td>\n      <td>0</td>\n      <td>0</td>\n      <td>2020-04-28 19:58:39.555707</td>\n    </tr>\n    <tr>\n      <th>1</th>\n      <td>Albania</td>\n      <td>None</td>\n      <td>41.1533</td>\n      <td>20.1683</td>\n      <td>2020-01-22 00:00:00</td>\n      <td>0</td>\n      <td>0</td>\n      <td>2020-04-28 19:58:39.555707</td>\n    </tr>\n    <tr>\n      <th>2</th>\n      <td>Algeria</td>\n      <td>None</td>\n      <td>28.0339</td>\n      <td>1.6596</td>\n      <td>2020-01-22 00:00:00</td>\n      <td>0</td>\n      <td>0</td>\n      <td>2020-04-28 19:58:39.555707</td>\n    </tr>\n    <tr>\n      <th>3</th>\n      <td>Andorra</td>\n      <td>None</td>\n      <td>42.5063</td>\n      <td>1.5218</td>\n      <td>2020-01-22 00:00:00</td>\n      <td>0</td>\n      <td>0</td>\n      <td>2020-04-28 19:58:39.555707</td>\n    </tr>\n    <tr>\n      <th>4</th>\n      <td>Angola</td>\n      <td>None</td>\n      <td>-11.2027</td>\n      <td>17.8739</td>\n      <td>2020-01-22 00:00:00</td>\n      <td>0</td>\n      <td>0</td>\n      <td>2020-04-28 19:58:39.555707</td>\n    </tr>\n  </tbody>\n</table>\n</div>"
     },
     "metadata": {},
     "execution_count": 44
    }
   ],
   "source": [
    "df.head()"
   ]
  },
  {
   "cell_type": "code",
   "execution_count": 45,
   "metadata": {},
   "outputs": [
    {
     "output_type": "execute_result",
     "data": {
      "text/plain": "       country state   latitude   longitude                 date  confirmed  \\\n341920      US  Utah  38.996171 -110.701396  2020-04-27 00:00:00          1   \n341921      US  Utah  37.854472 -111.441876  2020-04-27 00:00:00          2   \n341922      US  Utah  40.124915 -109.517442  2020-04-27 00:00:00          1   \n341923      US  Utah  41.271160 -111.914512  2020-04-27 00:00:00          3   \n341924      US  Utah        NaN         NaN  2020-04-27 00:00:00          0   \n\n        death               etl_load_time  \n341920      0  2020-04-28 19:58:39.555707  \n341921      0  2020-04-28 19:58:39.555707  \n341922      0  2020-04-28 19:58:39.555707  \n341923      0  2020-04-28 19:58:39.555707  \n341924      0  2020-04-28 19:58:39.555707  ",
      "text/html": "<div>\n<style scoped>\n    .dataframe tbody tr th:only-of-type {\n        vertical-align: middle;\n    }\n\n    .dataframe tbody tr th {\n        vertical-align: top;\n    }\n\n    .dataframe thead th {\n        text-align: right;\n    }\n</style>\n<table border=\"1\" class=\"dataframe\">\n  <thead>\n    <tr style=\"text-align: right;\">\n      <th></th>\n      <th>country</th>\n      <th>state</th>\n      <th>latitude</th>\n      <th>longitude</th>\n      <th>date</th>\n      <th>confirmed</th>\n      <th>death</th>\n      <th>etl_load_time</th>\n    </tr>\n  </thead>\n  <tbody>\n    <tr>\n      <th>341920</th>\n      <td>US</td>\n      <td>Utah</td>\n      <td>38.996171</td>\n      <td>-110.701396</td>\n      <td>2020-04-27 00:00:00</td>\n      <td>1</td>\n      <td>0</td>\n      <td>2020-04-28 19:58:39.555707</td>\n    </tr>\n    <tr>\n      <th>341921</th>\n      <td>US</td>\n      <td>Utah</td>\n      <td>37.854472</td>\n      <td>-111.441876</td>\n      <td>2020-04-27 00:00:00</td>\n      <td>2</td>\n      <td>0</td>\n      <td>2020-04-28 19:58:39.555707</td>\n    </tr>\n    <tr>\n      <th>341922</th>\n      <td>US</td>\n      <td>Utah</td>\n      <td>40.124915</td>\n      <td>-109.517442</td>\n      <td>2020-04-27 00:00:00</td>\n      <td>1</td>\n      <td>0</td>\n      <td>2020-04-28 19:58:39.555707</td>\n    </tr>\n    <tr>\n      <th>341923</th>\n      <td>US</td>\n      <td>Utah</td>\n      <td>41.271160</td>\n      <td>-111.914512</td>\n      <td>2020-04-27 00:00:00</td>\n      <td>3</td>\n      <td>0</td>\n      <td>2020-04-28 19:58:39.555707</td>\n    </tr>\n    <tr>\n      <th>341924</th>\n      <td>US</td>\n      <td>Utah</td>\n      <td>NaN</td>\n      <td>NaN</td>\n      <td>2020-04-27 00:00:00</td>\n      <td>0</td>\n      <td>0</td>\n      <td>2020-04-28 19:58:39.555707</td>\n    </tr>\n  </tbody>\n</table>\n</div>"
     },
     "metadata": {},
     "execution_count": 45
    }
   ],
   "source": [
    "df.tail()"
   ]
  },
  {
   "cell_type": "code",
   "execution_count": 46,
   "metadata": {},
   "outputs": [
    {
     "output_type": "execute_result",
     "data": {
      "text/plain": "       country           state   latitude   longitude                 date  \\\n64908       US        Colorado  37.319409 -102.560322  2020-02-03 00:00:00   \n194678      US            Utah  40.124915 -109.517442  2020-03-13 00:00:00   \n185548      US      California  38.779660 -120.523317  2020-03-11 00:00:00   \n241833      US        Kentucky  37.692414  -83.959564  2020-03-28 00:00:00   \n216538      US      New Mexico  36.481264 -103.470962  2020-03-20 00:00:00   \n288112      US         Montana  46.855389 -112.935916  2020-04-11 00:00:00   \n339046      US         Florida  28.715858  -81.240603  2020-04-27 00:00:00   \n6185    Israel            None  31.000000   35.000000  2020-02-14 00:00:00   \n224156      US        Virginia  37.264206  -77.396097  2020-03-22 00:00:00   \n144853      US  North Carolina  34.893294  -76.541201  2020-02-27 00:00:00   \n120410      US        Colorado  39.979135 -108.217901  2020-02-20 00:00:00   \n297628      US       Minnesota  43.674346  -95.753296  2020-04-14 00:00:00   \n242051      US        Michigan  42.246338  -85.004936  2020-03-28 00:00:00   \n81664       US        Illinois  37.730335  -88.929940  2020-02-08 00:00:00   \n305856      US       Wisconsin  43.800260  -89.046796  2020-04-16 00:00:00   \n183287      US        Maryland  39.457847  -76.629120  2020-03-10 00:00:00   \n51561       US            Iowa   0.000000    0.000000  2020-01-29 00:00:00   \n127210      US           Idaho  44.228009 -111.480994  2020-02-22 00:00:00   \n307813      US   New Hampshire  43.874986  -71.204302  2020-04-17 00:00:00   \n123442      US         Alabama  34.150305  -87.373259  2020-02-21 00:00:00   \n\n        confirmed  death               etl_load_time  \n64908           0      0  2020-04-28 19:58:39.555707  \n194678          0      0  2020-04-28 19:58:39.555707  \n185548          0      0  2020-04-28 19:58:39.555707  \n241833          0      0  2020-04-28 19:58:39.555707  \n216538          0      0  2020-04-28 19:58:39.555707  \n288112          0      0  2020-04-28 19:58:39.555707  \n339046         10      0  2020-04-28 19:58:39.555707  \n6185            0      0  2020-04-28 19:58:39.555707  \n224156          0      0  2020-04-28 19:58:39.555707  \n144853          0      0  2020-04-28 19:58:39.555707  \n120410          0      0  2020-04-28 19:58:39.555707  \n297628          2      0  2020-04-28 19:58:39.555707  \n242051          2      0  2020-04-28 19:58:39.555707  \n81664           0      0  2020-04-28 19:58:39.555707  \n305856          0      0  2020-04-28 19:58:39.555707  \n183287          0      0  2020-04-28 19:58:39.555707  \n51561           0      0  2020-04-28 19:58:39.555707  \n127210          0      0  2020-04-28 19:58:39.555707  \n307813          3      0  2020-04-28 19:58:39.555707  \n123442          0      0  2020-04-28 19:58:39.555707  ",
      "text/html": "<div>\n<style scoped>\n    .dataframe tbody tr th:only-of-type {\n        vertical-align: middle;\n    }\n\n    .dataframe tbody tr th {\n        vertical-align: top;\n    }\n\n    .dataframe thead th {\n        text-align: right;\n    }\n</style>\n<table border=\"1\" class=\"dataframe\">\n  <thead>\n    <tr style=\"text-align: right;\">\n      <th></th>\n      <th>country</th>\n      <th>state</th>\n      <th>latitude</th>\n      <th>longitude</th>\n      <th>date</th>\n      <th>confirmed</th>\n      <th>death</th>\n      <th>etl_load_time</th>\n    </tr>\n  </thead>\n  <tbody>\n    <tr>\n      <th>64908</th>\n      <td>US</td>\n      <td>Colorado</td>\n      <td>37.319409</td>\n      <td>-102.560322</td>\n      <td>2020-02-03 00:00:00</td>\n      <td>0</td>\n      <td>0</td>\n      <td>2020-04-28 19:58:39.555707</td>\n    </tr>\n    <tr>\n      <th>194678</th>\n      <td>US</td>\n      <td>Utah</td>\n      <td>40.124915</td>\n      <td>-109.517442</td>\n      <td>2020-03-13 00:00:00</td>\n      <td>0</td>\n      <td>0</td>\n      <td>2020-04-28 19:58:39.555707</td>\n    </tr>\n    <tr>\n      <th>185548</th>\n      <td>US</td>\n      <td>California</td>\n      <td>38.779660</td>\n      <td>-120.523317</td>\n      <td>2020-03-11 00:00:00</td>\n      <td>0</td>\n      <td>0</td>\n      <td>2020-04-28 19:58:39.555707</td>\n    </tr>\n    <tr>\n      <th>241833</th>\n      <td>US</td>\n      <td>Kentucky</td>\n      <td>37.692414</td>\n      <td>-83.959564</td>\n      <td>2020-03-28 00:00:00</td>\n      <td>0</td>\n      <td>0</td>\n      <td>2020-04-28 19:58:39.555707</td>\n    </tr>\n    <tr>\n      <th>216538</th>\n      <td>US</td>\n      <td>New Mexico</td>\n      <td>36.481264</td>\n      <td>-103.470962</td>\n      <td>2020-03-20 00:00:00</td>\n      <td>0</td>\n      <td>0</td>\n      <td>2020-04-28 19:58:39.555707</td>\n    </tr>\n    <tr>\n      <th>288112</th>\n      <td>US</td>\n      <td>Montana</td>\n      <td>46.855389</td>\n      <td>-112.935916</td>\n      <td>2020-04-11 00:00:00</td>\n      <td>0</td>\n      <td>0</td>\n      <td>2020-04-28 19:58:39.555707</td>\n    </tr>\n    <tr>\n      <th>339046</th>\n      <td>US</td>\n      <td>Florida</td>\n      <td>28.715858</td>\n      <td>-81.240603</td>\n      <td>2020-04-27 00:00:00</td>\n      <td>10</td>\n      <td>0</td>\n      <td>2020-04-28 19:58:39.555707</td>\n    </tr>\n    <tr>\n      <th>6185</th>\n      <td>Israel</td>\n      <td>None</td>\n      <td>31.000000</td>\n      <td>35.000000</td>\n      <td>2020-02-14 00:00:00</td>\n      <td>0</td>\n      <td>0</td>\n      <td>2020-04-28 19:58:39.555707</td>\n    </tr>\n    <tr>\n      <th>224156</th>\n      <td>US</td>\n      <td>Virginia</td>\n      <td>37.264206</td>\n      <td>-77.396097</td>\n      <td>2020-03-22 00:00:00</td>\n      <td>0</td>\n      <td>0</td>\n      <td>2020-04-28 19:58:39.555707</td>\n    </tr>\n    <tr>\n      <th>144853</th>\n      <td>US</td>\n      <td>North Carolina</td>\n      <td>34.893294</td>\n      <td>-76.541201</td>\n      <td>2020-02-27 00:00:00</td>\n      <td>0</td>\n      <td>0</td>\n      <td>2020-04-28 19:58:39.555707</td>\n    </tr>\n    <tr>\n      <th>120410</th>\n      <td>US</td>\n      <td>Colorado</td>\n      <td>39.979135</td>\n      <td>-108.217901</td>\n      <td>2020-02-20 00:00:00</td>\n      <td>0</td>\n      <td>0</td>\n      <td>2020-04-28 19:58:39.555707</td>\n    </tr>\n    <tr>\n      <th>297628</th>\n      <td>US</td>\n      <td>Minnesota</td>\n      <td>43.674346</td>\n      <td>-95.753296</td>\n      <td>2020-04-14 00:00:00</td>\n      <td>2</td>\n      <td>0</td>\n      <td>2020-04-28 19:58:39.555707</td>\n    </tr>\n    <tr>\n      <th>242051</th>\n      <td>US</td>\n      <td>Michigan</td>\n      <td>42.246338</td>\n      <td>-85.004936</td>\n      <td>2020-03-28 00:00:00</td>\n      <td>2</td>\n      <td>0</td>\n      <td>2020-04-28 19:58:39.555707</td>\n    </tr>\n    <tr>\n      <th>81664</th>\n      <td>US</td>\n      <td>Illinois</td>\n      <td>37.730335</td>\n      <td>-88.929940</td>\n      <td>2020-02-08 00:00:00</td>\n      <td>0</td>\n      <td>0</td>\n      <td>2020-04-28 19:58:39.555707</td>\n    </tr>\n    <tr>\n      <th>305856</th>\n      <td>US</td>\n      <td>Wisconsin</td>\n      <td>43.800260</td>\n      <td>-89.046796</td>\n      <td>2020-04-16 00:00:00</td>\n      <td>0</td>\n      <td>0</td>\n      <td>2020-04-28 19:58:39.555707</td>\n    </tr>\n    <tr>\n      <th>183287</th>\n      <td>US</td>\n      <td>Maryland</td>\n      <td>39.457847</td>\n      <td>-76.629120</td>\n      <td>2020-03-10 00:00:00</td>\n      <td>0</td>\n      <td>0</td>\n      <td>2020-04-28 19:58:39.555707</td>\n    </tr>\n    <tr>\n      <th>51561</th>\n      <td>US</td>\n      <td>Iowa</td>\n      <td>0.000000</td>\n      <td>0.000000</td>\n      <td>2020-01-29 00:00:00</td>\n      <td>0</td>\n      <td>0</td>\n      <td>2020-04-28 19:58:39.555707</td>\n    </tr>\n    <tr>\n      <th>127210</th>\n      <td>US</td>\n      <td>Idaho</td>\n      <td>44.228009</td>\n      <td>-111.480994</td>\n      <td>2020-02-22 00:00:00</td>\n      <td>0</td>\n      <td>0</td>\n      <td>2020-04-28 19:58:39.555707</td>\n    </tr>\n    <tr>\n      <th>307813</th>\n      <td>US</td>\n      <td>New Hampshire</td>\n      <td>43.874986</td>\n      <td>-71.204302</td>\n      <td>2020-04-17 00:00:00</td>\n      <td>3</td>\n      <td>0</td>\n      <td>2020-04-28 19:58:39.555707</td>\n    </tr>\n    <tr>\n      <th>123442</th>\n      <td>US</td>\n      <td>Alabama</td>\n      <td>34.150305</td>\n      <td>-87.373259</td>\n      <td>2020-02-21 00:00:00</td>\n      <td>0</td>\n      <td>0</td>\n      <td>2020-04-28 19:58:39.555707</td>\n    </tr>\n  </tbody>\n</table>\n</div>"
     },
     "metadata": {},
     "execution_count": 46
    }
   ],
   "source": [
    "df.sample(20)"
   ]
  },
  {
   "cell_type": "code",
   "execution_count": 47,
   "metadata": {},
   "outputs": [
    {
     "output_type": "execute_result",
     "data": {
      "text/plain": "(341925, 8)"
     },
     "metadata": {},
     "execution_count": 47
    }
   ],
   "source": [
    "df.shape"
   ]
  },
  {
   "cell_type": "code",
   "execution_count": 48,
   "metadata": {},
   "outputs": [
    {
     "output_type": "execute_result",
     "data": {
      "text/plain": "country           object\nstate             object\nlatitude         float64\nlongitude        float64\ndate              object\nconfirmed          int64\ndeath              int64\netl_load_time     object\ndtype: object"
     },
     "metadata": {},
     "execution_count": 48
    }
   ],
   "source": [
    "df.dtypes"
   ]
  },
  {
   "cell_type": "markdown",
   "metadata": {},
   "source": [
    "### A few observations here:\n",
    "\n",
    "- We have 341k rows of data and 8 columns\n",
    "- country, state, longitude, and latitude denoting location in the world (labels)\n",
    "- state has `None` as null value\n",
    "- confirmed and death for potential prediction (target)\n",
    "- date and etl_load_time seems to be stored as `string` rather than `datetime`\n",
    "- `etl_load_time` seems obsolete for this purpose\n",
    "\n",
    "Let's drop `etl_load_time` and convert `date` to the proper datatype"
   ]
  },
  {
   "cell_type": "code",
   "execution_count": 55,
   "metadata": {},
   "outputs": [
    {
     "output_type": "execute_result",
     "data": {
      "text/plain": "country              object\nstate                object\nlatitude            float64\nlongitude           float64\ndate         datetime64[ns]\nconfirmed             int64\ndeath                 int64\ndtype: object"
     },
     "metadata": {},
     "execution_count": 55
    }
   ],
   "source": [
    "df['date'] = df['date'].astype('datetime64', copy=False)\n",
    "df.drop(columns=['etl_load_time'], inplace=True, errors='ignore')\n",
    "df.replace({\"None\": np.NaN}, inplace=True)\n",
    "\n",
    "df.dtypes"
   ]
  },
  {
   "cell_type": "code",
   "execution_count": 56,
   "metadata": {},
   "outputs": [
    {
     "output_type": "execute_result",
     "data": {
      "text/plain": "       country state  latitude  longitude       date  confirmed  death\n0  Afghanistan  None   33.0000    65.0000 2020-01-22          0      0\n1      Albania  None   41.1533    20.1683 2020-01-22          0      0\n2      Algeria  None   28.0339     1.6596 2020-01-22          0      0\n3      Andorra  None   42.5063     1.5218 2020-01-22          0      0\n4       Angola  None  -11.2027    17.8739 2020-01-22          0      0",
      "text/html": "<div>\n<style scoped>\n    .dataframe tbody tr th:only-of-type {\n        vertical-align: middle;\n    }\n\n    .dataframe tbody tr th {\n        vertical-align: top;\n    }\n\n    .dataframe thead th {\n        text-align: right;\n    }\n</style>\n<table border=\"1\" class=\"dataframe\">\n  <thead>\n    <tr style=\"text-align: right;\">\n      <th></th>\n      <th>country</th>\n      <th>state</th>\n      <th>latitude</th>\n      <th>longitude</th>\n      <th>date</th>\n      <th>confirmed</th>\n      <th>death</th>\n    </tr>\n  </thead>\n  <tbody>\n    <tr>\n      <th>0</th>\n      <td>Afghanistan</td>\n      <td>None</td>\n      <td>33.0000</td>\n      <td>65.0000</td>\n      <td>2020-01-22</td>\n      <td>0</td>\n      <td>0</td>\n    </tr>\n    <tr>\n      <th>1</th>\n      <td>Albania</td>\n      <td>None</td>\n      <td>41.1533</td>\n      <td>20.1683</td>\n      <td>2020-01-22</td>\n      <td>0</td>\n      <td>0</td>\n    </tr>\n    <tr>\n      <th>2</th>\n      <td>Algeria</td>\n      <td>None</td>\n      <td>28.0339</td>\n      <td>1.6596</td>\n      <td>2020-01-22</td>\n      <td>0</td>\n      <td>0</td>\n    </tr>\n    <tr>\n      <th>3</th>\n      <td>Andorra</td>\n      <td>None</td>\n      <td>42.5063</td>\n      <td>1.5218</td>\n      <td>2020-01-22</td>\n      <td>0</td>\n      <td>0</td>\n    </tr>\n    <tr>\n      <th>4</th>\n      <td>Angola</td>\n      <td>None</td>\n      <td>-11.2027</td>\n      <td>17.8739</td>\n      <td>2020-01-22</td>\n      <td>0</td>\n      <td>0</td>\n    </tr>\n  </tbody>\n</table>\n</div>"
     },
     "metadata": {},
     "execution_count": 56
    }
   ],
   "source": [
    "df.head()"
   ]
  },
  {
   "cell_type": "markdown",
   "metadata": {},
   "source": [
    "### Searching and dealing with *null*\n",
    "\n"
   ]
  }
 ],
 "metadata": {
  "language_info": {
   "codemirror_mode": {
    "name": "ipython",
    "version": 3
   },
   "file_extension": ".py",
   "mimetype": "text/x-python",
   "name": "python",
   "nbconvert_exporter": "python",
   "pygments_lexer": "ipython3",
   "version": "3.6.10-final"
  },
  "orig_nbformat": 2,
  "kernelspec": {
   "name": "python361064bitvenvvenv6fbd8ebb3597415ba56cd547552a605b",
   "display_name": "Python 3.6.10 64-bit ('.venv': venv)"
  }
 },
 "nbformat": 4,
 "nbformat_minor": 2
}